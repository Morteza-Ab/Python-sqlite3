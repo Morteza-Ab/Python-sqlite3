{
 "cells": [
  {
   "cell_type": "code",
   "execution_count": 13,
   "id": "138910b8",
   "metadata": {},
   "outputs": [
    {
     "data": {
      "text/plain": [
       "['Data_engineering1',\n",
       " 'PCA-Rohil.tiff',\n",
       " '.Rhistory',\n",
       " 'Visual Studio Code.app',\n",
       " 'work permit',\n",
       " 'Proteome GO Analysis.R',\n",
       " 'ARDRAF',\n",
       " 'PIIS1525001623001296.pdf',\n",
       " '.DS_Store',\n",
       " 'AD Proteome.R',\n",
       " 'New Folder With Items 2',\n",
       " 'IBM DATA Vis2.ipynb',\n",
       " 'IMG_20230124_214620_427 (1).JPG',\n",
       " 'PC-Rohil.tiff',\n",
       " '.localized',\n",
       " 'New Folder With Items 3',\n",
       " 'PCA and Heatmap.R',\n",
       " 'New Folder With Items 4',\n",
       " 'combined_proteome_transcriptome_data.xlsx',\n",
       " 'PCA.R',\n",
       " 'Desk-June24',\n",
       " 'Vaccine record',\n",
       " 'PC-Rohil.pdf',\n",
       " 'Modified_DEGs.xlsx',\n",
       " 'Cytoscape',\n",
       " 'Proteomic data.xlsx',\n",
       " 'tax',\n",
       " 'AdvancedVisualizationinR_Code.R',\n",
       " 'Desktop',\n",
       " 'tax-2023',\n",
       " 'cleaned1_combined_data.xlsx',\n",
       " 'PCA-Rohil.pdf',\n",
       " 'Atom 2.app',\n",
       " 'New Folder With Items',\n",
       " 'YearlyReportgraphs.png',\n",
       " 'Azure Data Studio.app',\n",
       " 'Cleaned_Proteome.xlsx',\n",
       " 'Dash-IBM-Car.ipynb',\n",
       " 'jex2159_Rev_EV.pdf',\n",
       " 'Omics data Visualization.R',\n",
       " '.RData',\n",
       " 'tax-new',\n",
       " '024_heatmap_example_en.xlsx',\n",
       " 'Desk3',\n",
       " 'DEGs.xlsx',\n",
       " 'preprocessing',\n",
       " 'FileZilla.app',\n",
       " 'IMG_20230124_214620_427 (1) (1).jpg',\n",
       " 'Transcriptome',\n",
       " 'Proteome and Transcriptome data comparison.ipynb',\n",
       " 'Cleaned_DEGs.xlsx',\n",
       " 'Cleaned_Proteomic_data.xlsx',\n",
       " 'Data_engineering']"
      ]
     },
     "execution_count": 13,
     "metadata": {},
     "output_type": "execute_result"
    }
   ],
   "source": [
    "import os\n",
    "directories = os.listdir(\"/Users/mortezaabyadeh/Desktop\")\n",
    "directories.append(\"Data_engineering\")\n",
    "directories.insert(0, \"Data_engineering1\")\n",
    "directories"
   ]
  },
  {
   "cell_type": "code",
   "execution_count": 14,
   "id": "7d7849de",
   "metadata": {},
   "outputs": [
    {
     "data": {
      "text/plain": [
       "0"
      ]
     },
     "execution_count": 14,
     "metadata": {},
     "output_type": "execute_result"
    }
   ],
   "source": [
    "directories.index(\"Data_engineering1\")"
   ]
  },
  {
   "cell_type": "code",
   "execution_count": 22,
   "id": "e9ffec52",
   "metadata": {},
   "outputs": [
    {
     "data": {
      "text/plain": [
       "{'files': [], 'directories': []}"
      ]
     },
     "execution_count": 22,
     "metadata": {},
     "output_type": "execute_result"
    }
   ],
   "source": [
    "import os\n",
    "home_items = os.listdir(\"/Users/mortezaabyadeh/Desktop\")\n",
    "home_content = {\"files\":[], \"directories\":[]}\n",
    "home_content"
   ]
  },
  {
   "cell_type": "code",
   "execution_count": 19,
   "id": "eef5a464",
   "metadata": {},
   "outputs": [],
   "source": [
    "home_paths=[os.path.join(\"/Users/mortezaabyadeh/Desktop\", item)for item in home_items]"
   ]
  },
  {
   "cell_type": "code",
   "execution_count": 20,
   "id": "2522e5b9",
   "metadata": {},
   "outputs": [
    {
     "data": {
      "text/plain": [
       "['/Users/mortezaabyadeh/Desktop/PCA-Rohil.tiff',\n",
       " '/Users/mortezaabyadeh/Desktop/.Rhistory',\n",
       " '/Users/mortezaabyadeh/Desktop/Visual Studio Code.app',\n",
       " '/Users/mortezaabyadeh/Desktop/work permit',\n",
       " '/Users/mortezaabyadeh/Desktop/Proteome GO Analysis.R',\n",
       " '/Users/mortezaabyadeh/Desktop/ARDRAF',\n",
       " '/Users/mortezaabyadeh/Desktop/PIIS1525001623001296.pdf',\n",
       " '/Users/mortezaabyadeh/Desktop/.DS_Store',\n",
       " '/Users/mortezaabyadeh/Desktop/AD Proteome.R',\n",
       " '/Users/mortezaabyadeh/Desktop/New Folder With Items 2',\n",
       " '/Users/mortezaabyadeh/Desktop/IBM DATA Vis2.ipynb',\n",
       " '/Users/mortezaabyadeh/Desktop/IMG_20230124_214620_427 (1).JPG',\n",
       " '/Users/mortezaabyadeh/Desktop/PC-Rohil.tiff',\n",
       " '/Users/mortezaabyadeh/Desktop/.localized',\n",
       " '/Users/mortezaabyadeh/Desktop/New Folder With Items 3',\n",
       " '/Users/mortezaabyadeh/Desktop/PCA and Heatmap.R',\n",
       " '/Users/mortezaabyadeh/Desktop/New Folder With Items 4',\n",
       " '/Users/mortezaabyadeh/Desktop/combined_proteome_transcriptome_data.xlsx',\n",
       " '/Users/mortezaabyadeh/Desktop/PCA.R',\n",
       " '/Users/mortezaabyadeh/Desktop/Desk-June24',\n",
       " '/Users/mortezaabyadeh/Desktop/Vaccine record',\n",
       " '/Users/mortezaabyadeh/Desktop/PC-Rohil.pdf',\n",
       " '/Users/mortezaabyadeh/Desktop/Modified_DEGs.xlsx',\n",
       " '/Users/mortezaabyadeh/Desktop/Cytoscape',\n",
       " '/Users/mortezaabyadeh/Desktop/Proteomic data.xlsx',\n",
       " '/Users/mortezaabyadeh/Desktop/tax',\n",
       " '/Users/mortezaabyadeh/Desktop/AdvancedVisualizationinR_Code.R',\n",
       " '/Users/mortezaabyadeh/Desktop/Desktop',\n",
       " '/Users/mortezaabyadeh/Desktop/tax-2023',\n",
       " '/Users/mortezaabyadeh/Desktop/cleaned1_combined_data.xlsx',\n",
       " '/Users/mortezaabyadeh/Desktop/PCA-Rohil.pdf',\n",
       " '/Users/mortezaabyadeh/Desktop/Atom 2.app',\n",
       " '/Users/mortezaabyadeh/Desktop/New Folder With Items',\n",
       " '/Users/mortezaabyadeh/Desktop/YearlyReportgraphs.png',\n",
       " '/Users/mortezaabyadeh/Desktop/Azure Data Studio.app',\n",
       " '/Users/mortezaabyadeh/Desktop/Cleaned_Proteome.xlsx',\n",
       " '/Users/mortezaabyadeh/Desktop/Dash-IBM-Car.ipynb',\n",
       " '/Users/mortezaabyadeh/Desktop/jex2159_Rev_EV.pdf',\n",
       " '/Users/mortezaabyadeh/Desktop/Omics data Visualization.R',\n",
       " '/Users/mortezaabyadeh/Desktop/.RData',\n",
       " '/Users/mortezaabyadeh/Desktop/tax-new',\n",
       " '/Users/mortezaabyadeh/Desktop/024_heatmap_example_en.xlsx',\n",
       " '/Users/mortezaabyadeh/Desktop/Desk3',\n",
       " '/Users/mortezaabyadeh/Desktop/DEGs.xlsx',\n",
       " '/Users/mortezaabyadeh/Desktop/preprocessing',\n",
       " '/Users/mortezaabyadeh/Desktop/FileZilla.app',\n",
       " '/Users/mortezaabyadeh/Desktop/IMG_20230124_214620_427 (1) (1).jpg',\n",
       " '/Users/mortezaabyadeh/Desktop/Transcriptome',\n",
       " '/Users/mortezaabyadeh/Desktop/Proteome and Transcriptome data comparison.ipynb',\n",
       " '/Users/mortezaabyadeh/Desktop/Cleaned_DEGs.xlsx',\n",
       " '/Users/mortezaabyadeh/Desktop/Cleaned_Proteomic_data.xlsx']"
      ]
     },
     "execution_count": 20,
     "metadata": {},
     "output_type": "execute_result"
    }
   ],
   "source": [
    "home_paths"
   ]
  },
  {
   "cell_type": "code",
   "execution_count": 23,
   "id": "6ed9f83c",
   "metadata": {},
   "outputs": [
    {
     "data": {
      "text/plain": [
       "{'files': ['/Users/mortezaabyadeh/Desktop/PCA-Rohil.tiff',\n",
       "  '/Users/mortezaabyadeh/Desktop/.Rhistory',\n",
       "  '/Users/mortezaabyadeh/Desktop/Proteome GO Analysis.R',\n",
       "  '/Users/mortezaabyadeh/Desktop/PIIS1525001623001296.pdf',\n",
       "  '/Users/mortezaabyadeh/Desktop/.DS_Store',\n",
       "  '/Users/mortezaabyadeh/Desktop/AD Proteome.R',\n",
       "  '/Users/mortezaabyadeh/Desktop/IBM DATA Vis2.ipynb',\n",
       "  '/Users/mortezaabyadeh/Desktop/IMG_20230124_214620_427 (1).JPG',\n",
       "  '/Users/mortezaabyadeh/Desktop/PC-Rohil.tiff',\n",
       "  '/Users/mortezaabyadeh/Desktop/.localized',\n",
       "  '/Users/mortezaabyadeh/Desktop/PCA and Heatmap.R',\n",
       "  '/Users/mortezaabyadeh/Desktop/combined_proteome_transcriptome_data.xlsx',\n",
       "  '/Users/mortezaabyadeh/Desktop/PCA.R',\n",
       "  '/Users/mortezaabyadeh/Desktop/PC-Rohil.pdf',\n",
       "  '/Users/mortezaabyadeh/Desktop/Modified_DEGs.xlsx',\n",
       "  '/Users/mortezaabyadeh/Desktop/Proteomic data.xlsx',\n",
       "  '/Users/mortezaabyadeh/Desktop/AdvancedVisualizationinR_Code.R',\n",
       "  '/Users/mortezaabyadeh/Desktop/cleaned1_combined_data.xlsx',\n",
       "  '/Users/mortezaabyadeh/Desktop/PCA-Rohil.pdf',\n",
       "  '/Users/mortezaabyadeh/Desktop/YearlyReportgraphs.png',\n",
       "  '/Users/mortezaabyadeh/Desktop/Cleaned_Proteome.xlsx',\n",
       "  '/Users/mortezaabyadeh/Desktop/Dash-IBM-Car.ipynb',\n",
       "  '/Users/mortezaabyadeh/Desktop/jex2159_Rev_EV.pdf',\n",
       "  '/Users/mortezaabyadeh/Desktop/Omics data Visualization.R',\n",
       "  '/Users/mortezaabyadeh/Desktop/.RData',\n",
       "  '/Users/mortezaabyadeh/Desktop/024_heatmap_example_en.xlsx',\n",
       "  '/Users/mortezaabyadeh/Desktop/DEGs.xlsx',\n",
       "  '/Users/mortezaabyadeh/Desktop/IMG_20230124_214620_427 (1) (1).jpg',\n",
       "  '/Users/mortezaabyadeh/Desktop/Proteome and Transcriptome data comparison.ipynb',\n",
       "  '/Users/mortezaabyadeh/Desktop/Cleaned_DEGs.xlsx',\n",
       "  '/Users/mortezaabyadeh/Desktop/Cleaned_Proteomic_data.xlsx'],\n",
       " 'directories': ['/Users/mortezaabyadeh/Desktop/Visual Studio Code.app',\n",
       "  '/Users/mortezaabyadeh/Desktop/work permit',\n",
       "  '/Users/mortezaabyadeh/Desktop/ARDRAF',\n",
       "  '/Users/mortezaabyadeh/Desktop/New Folder With Items 2',\n",
       "  '/Users/mortezaabyadeh/Desktop/New Folder With Items 3',\n",
       "  '/Users/mortezaabyadeh/Desktop/New Folder With Items 4',\n",
       "  '/Users/mortezaabyadeh/Desktop/Desk-June24',\n",
       "  '/Users/mortezaabyadeh/Desktop/Vaccine record',\n",
       "  '/Users/mortezaabyadeh/Desktop/Cytoscape',\n",
       "  '/Users/mortezaabyadeh/Desktop/tax',\n",
       "  '/Users/mortezaabyadeh/Desktop/Desktop',\n",
       "  '/Users/mortezaabyadeh/Desktop/tax-2023',\n",
       "  '/Users/mortezaabyadeh/Desktop/Atom 2.app',\n",
       "  '/Users/mortezaabyadeh/Desktop/New Folder With Items',\n",
       "  '/Users/mortezaabyadeh/Desktop/Azure Data Studio.app',\n",
       "  '/Users/mortezaabyadeh/Desktop/tax-new',\n",
       "  '/Users/mortezaabyadeh/Desktop/Desk3',\n",
       "  '/Users/mortezaabyadeh/Desktop/preprocessing',\n",
       "  '/Users/mortezaabyadeh/Desktop/FileZilla.app',\n",
       "  '/Users/mortezaabyadeh/Desktop/Transcriptome']}"
      ]
     },
     "execution_count": 23,
     "metadata": {},
     "output_type": "execute_result"
    }
   ],
   "source": [
    "for path in home_paths:\n",
    "    if os.path.isdir(path):\n",
    "        home_content['directories'].append(path)\n",
    "    if os.path.isfile(path):\n",
    "        home_content['files'].append(path)\n",
    "        \n",
    "home_content"
   ]
  },
  {
   "cell_type": "code",
   "execution_count": 25,
   "id": "14b6610c",
   "metadata": {},
   "outputs": [
    {
     "name": "stdout",
     "output_type": "stream",
     "text": [
      "/Users/mortezaabyadeh/Desktop/PCA-Rohil.tiff\n",
      "/Users/mortezaabyadeh/Desktop/.Rhistory\n",
      "/Users/mortezaabyadeh/Desktop/Proteome GO Analysis.R\n",
      "/Users/mortezaabyadeh/Desktop/PIIS1525001623001296.pdf\n",
      "/Users/mortezaabyadeh/Desktop/.DS_Store\n",
      "/Users/mortezaabyadeh/Desktop/AD Proteome.R\n",
      "/Users/mortezaabyadeh/Desktop/IBM DATA Vis2.ipynb\n",
      "/Users/mortezaabyadeh/Desktop/IMG_20230124_214620_427 (1).JPG\n",
      "/Users/mortezaabyadeh/Desktop/PC-Rohil.tiff\n",
      "/Users/mortezaabyadeh/Desktop/.localized\n",
      "/Users/mortezaabyadeh/Desktop/PCA and Heatmap.R\n",
      "/Users/mortezaabyadeh/Desktop/combined_proteome_transcriptome_data.xlsx\n",
      "/Users/mortezaabyadeh/Desktop/PCA.R\n",
      "/Users/mortezaabyadeh/Desktop/PC-Rohil.pdf\n",
      "/Users/mortezaabyadeh/Desktop/Modified_DEGs.xlsx\n",
      "/Users/mortezaabyadeh/Desktop/Proteomic data.xlsx\n",
      "/Users/mortezaabyadeh/Desktop/AdvancedVisualizationinR_Code.R\n",
      "/Users/mortezaabyadeh/Desktop/cleaned1_combined_data.xlsx\n",
      "/Users/mortezaabyadeh/Desktop/PCA-Rohil.pdf\n",
      "/Users/mortezaabyadeh/Desktop/YearlyReportgraphs.png\n",
      "/Users/mortezaabyadeh/Desktop/Cleaned_Proteome.xlsx\n",
      "/Users/mortezaabyadeh/Desktop/Dash-IBM-Car.ipynb\n",
      "/Users/mortezaabyadeh/Desktop/jex2159_Rev_EV.pdf\n",
      "/Users/mortezaabyadeh/Desktop/Omics data Visualization.R\n",
      "/Users/mortezaabyadeh/Desktop/.RData\n",
      "/Users/mortezaabyadeh/Desktop/024_heatmap_example_en.xlsx\n",
      "/Users/mortezaabyadeh/Desktop/DEGs.xlsx\n",
      "/Users/mortezaabyadeh/Desktop/IMG_20230124_214620_427 (1) (1).jpg\n",
      "/Users/mortezaabyadeh/Desktop/Proteome and Transcriptome data comparison.ipynb\n",
      "/Users/mortezaabyadeh/Desktop/Cleaned_DEGs.xlsx\n",
      "/Users/mortezaabyadeh/Desktop/Cleaned_Proteomic_data.xlsx\n"
     ]
    }
   ],
   "source": [
    "for item in home_content['files']:\n",
    "    print (item)"
   ]
  },
  {
   "cell_type": "code",
   "execution_count": 26,
   "id": "b75d6784",
   "metadata": {},
   "outputs": [
    {
     "data": {
      "text/plain": [
       "'{\"Name\": \"Morteza\", \"Family\": \"Abyadeh\", \"Age\": true}'"
      ]
     },
     "execution_count": 26,
     "metadata": {},
     "output_type": "execute_result"
    }
   ],
   "source": [
    "import json\n",
    "data = {\"Name\": \"Morteza\", \"Family\":\"Abyadeh\", \"Age\":True }\n",
    "json.dumps(data)"
   ]
  },
  {
   "cell_type": "code",
   "execution_count": 31,
   "id": "13ee3569",
   "metadata": {},
   "outputs": [
    {
     "data": {
      "text/plain": [
       "str"
      ]
     },
     "execution_count": 31,
     "metadata": {},
     "output_type": "execute_result"
    }
   ],
   "source": [
    "json_output = '{\"Name\": \"Morteza\", \"Family\":\"Abyadeh\", \"Age\":33}'\n",
    "loaded_json = json.loads(json_output)\n",
    "\n",
    "type(json_output)\n",
    "\n",
    "#loads or dumps mean load and dump 'string', however for fiels you dont need \"s\"\n",
    "# like with open(\"wine_rating.json\") as f:\n",
    "#     loaded_json = json.load(f)"
   ]
  },
  {
   "cell_type": "code",
   "execution_count": 41,
   "id": "a2f0a505",
   "metadata": {},
   "outputs": [
    {
     "ename": "OperationalError",
     "evalue": "table people already exists",
     "output_type": "error",
     "traceback": [
      "\u001b[0;31m---------------------------------------------------------------------------\u001b[0m",
      "\u001b[0;31mOperationalError\u001b[0m                          Traceback (most recent call last)",
      "\u001b[0;32m/var/folders/px/yhcbpgrs1hv_2v25cgzl51w00000gn/T/ipykernel_1783/2605761551.py\u001b[0m in \u001b[0;36m<module>\u001b[0;34m\u001b[0m\n\u001b[1;32m      3\u001b[0m \u001b[0mtable\u001b[0m \u001b[0;34m=\u001b[0m \u001b[0;34m\"CREATE TABLE people (id integer primary key, name TEXT, surname TEXT)\"\u001b[0m\u001b[0;34m\u001b[0m\u001b[0;34m\u001b[0m\u001b[0m\n\u001b[1;32m      4\u001b[0m \u001b[0mcursor\u001b[0m \u001b[0;34m=\u001b[0m \u001b[0mconnection\u001b[0m\u001b[0;34m.\u001b[0m\u001b[0mcursor\u001b[0m\u001b[0;34m(\u001b[0m\u001b[0;34m)\u001b[0m\u001b[0;34m\u001b[0m\u001b[0;34m\u001b[0m\u001b[0m\n\u001b[0;32m----> 5\u001b[0;31m \u001b[0mcursor\u001b[0m\u001b[0;34m.\u001b[0m\u001b[0mexecute\u001b[0m\u001b[0;34m(\u001b[0m\u001b[0mtable\u001b[0m\u001b[0;34m)\u001b[0m\u001b[0;34m\u001b[0m\u001b[0;34m\u001b[0m\u001b[0m\n\u001b[0m\u001b[1;32m      6\u001b[0m \u001b[0mconnection\u001b[0m\u001b[0;34m.\u001b[0m\u001b[0mcommit\u001b[0m\u001b[0;34m(\u001b[0m\u001b[0;34m)\u001b[0m\u001b[0;34m\u001b[0m\u001b[0;34m\u001b[0m\u001b[0m\n",
      "\u001b[0;31mOperationalError\u001b[0m: table people already exists"
     ]
    }
   ],
   "source": [
    "import sqlite3\n",
    "connection = sqlite3.connect('sample.db')\n",
    "table = \"CREATE TABLE people (id integer primary key, name TEXT, surname TEXT)\"\n",
    "cursor = connection.cursor()\n",
    "cursor.execute(table)\n",
    "connection.commit()"
   ]
  },
  {
   "cell_type": "code",
   "execution_count": 33,
   "id": "b35c2a0f",
   "metadata": {},
   "outputs": [
    {
     "name": "stdout",
     "output_type": "stream",
     "text": [
      "Collecting faker\n",
      "  Downloading Faker-25.3.0-py3-none-any.whl (1.8 MB)\n",
      "\u001b[2K     \u001b[90m━━━━━━━━━━━━━━━━━━━━━━━━━━━━━━━━━━━━━━━━\u001b[0m \u001b[32m1.8/1.8 MB\u001b[0m \u001b[31m13.8 MB/s\u001b[0m eta \u001b[36m0:00:00\u001b[0m00:01\u001b[0m00:01\u001b[0m\n",
      "\u001b[?25hRequirement already satisfied: python-dateutil>=2.4 in /opt/anaconda3/lib/python3.9/site-packages (from faker) (2.8.2)\n",
      "Requirement already satisfied: six>=1.5 in /opt/anaconda3/lib/python3.9/site-packages (from python-dateutil>=2.4->faker) (1.16.0)\n",
      "Installing collected packages: faker\n",
      "Successfully installed faker-25.3.0\n",
      "Note: you may need to restart the kernel to use updated packages.\n"
     ]
    }
   ],
   "source": [
    "pip install faker"
   ]
  },
  {
   "cell_type": "code",
   "execution_count": 34,
   "id": "2e9d8f7a",
   "metadata": {},
   "outputs": [],
   "source": [
    "from faker import Faker\n",
    "fake = Faker()\n",
    "names = [fake.name().split() for i in range (100)]"
   ]
  },
  {
   "cell_type": "code",
   "execution_count": 36,
   "id": "1c47e0b9",
   "metadata": {},
   "outputs": [
    {
     "data": {
      "text/plain": [
       "[['Carlos', 'George'],\n",
       " ['Timothy', 'Landry'],\n",
       " ['Donald', 'Ferguson'],\n",
       " ['Madison', 'Smith'],\n",
       " ['Dana', 'Soto'],\n",
       " ['Jason', 'Matthews'],\n",
       " ['Garrett', 'Wilson'],\n",
       " ['Emily', 'Smith'],\n",
       " ['Mark', 'Valencia'],\n",
       " ['Samuel', 'Ryan'],\n",
       " ['Jonathan', 'Rose'],\n",
       " ['Catherine', 'Lopez'],\n",
       " ['Tamara', 'Wilson'],\n",
       " ['Elizabeth', 'Harrison'],\n",
       " ['Andrew', 'Vincent'],\n",
       " ['Timothy', 'Schmidt'],\n",
       " ['Cynthia', 'Hernandez'],\n",
       " ['Valerie', 'Williams'],\n",
       " ['Laura', 'Walsh'],\n",
       " ['Sandra', 'Murillo'],\n",
       " ['Rita', 'Walsh'],\n",
       " ['Brittany', 'Gallegos'],\n",
       " ['Mary', 'Jackson'],\n",
       " ['Frank', 'Weaver'],\n",
       " ['Mary', 'Holder'],\n",
       " ['Theresa', 'Price'],\n",
       " ['Renee', 'Christian'],\n",
       " ['Juan', 'Cross'],\n",
       " ['Kelly', 'Williams'],\n",
       " ['Dennis', 'Reynolds'],\n",
       " ['Linda', 'Hester'],\n",
       " ['Jeffrey', 'Gibson'],\n",
       " ['Scott', 'Drake'],\n",
       " ['Stephanie', 'Bridges'],\n",
       " ['Andrea', 'Jackson'],\n",
       " ['Kathryn', 'Trevino'],\n",
       " ['Joseph', 'Murphy'],\n",
       " ['Michael', 'Castro'],\n",
       " ['Christine', 'Alvarez'],\n",
       " ['Kyle', 'Ramirez'],\n",
       " ['Crystal', 'Little'],\n",
       " ['Stacie', 'Gallegos'],\n",
       " ['Nicole', 'Mcpherson', 'MD'],\n",
       " ['Alexis', 'Mcdonald'],\n",
       " ['Andrew', 'Le'],\n",
       " ['Kayla', 'Swanson'],\n",
       " ['Matthew', 'Cruz'],\n",
       " ['David', 'Acosta'],\n",
       " ['Troy', 'Griffin'],\n",
       " ['Andrew', 'Quinn'],\n",
       " ['Faith', 'Pitts'],\n",
       " ['Christopher', 'Cross'],\n",
       " ['Michael', 'Espinoza'],\n",
       " ['Lee', 'Cox'],\n",
       " ['Taylor', 'Smith'],\n",
       " ['Nancy', 'Cochran'],\n",
       " ['John', 'Kim'],\n",
       " ['John', 'Fernandez'],\n",
       " ['Samantha', 'Scott'],\n",
       " ['Justin', 'Lopez', 'DVM'],\n",
       " ['Marcus', 'Hamilton'],\n",
       " ['Diane', 'Mcgee'],\n",
       " ['Walter', 'Davis'],\n",
       " ['Charles', 'Tanner'],\n",
       " ['Michael', 'Parker'],\n",
       " ['Kristy', 'Marks'],\n",
       " ['Timothy', 'Smith'],\n",
       " ['Bruce', 'Johnson'],\n",
       " ['Brandon', 'Curtis'],\n",
       " ['Stephen', 'Zimmerman'],\n",
       " ['Maria', 'Palmer'],\n",
       " ['Michael', 'Burns'],\n",
       " ['Barbara', 'Pearson'],\n",
       " ['Maria', 'Bowers'],\n",
       " ['Richard', 'Vasquez'],\n",
       " ['Christopher', 'Zhang'],\n",
       " ['James', 'Mills'],\n",
       " ['Ronald', 'Burke'],\n",
       " ['Alexander', 'Pierce'],\n",
       " ['Jonathan', 'Ramirez'],\n",
       " ['Rachael', 'Shaw'],\n",
       " ['Aaron', 'Johnson'],\n",
       " ['Stephanie', 'Jones'],\n",
       " ['Brian', 'Castillo'],\n",
       " ['Kenneth', 'Spencer'],\n",
       " ['Melissa', 'Murphy'],\n",
       " ['Michael', 'King'],\n",
       " ['Madison', 'Ward'],\n",
       " ['Cynthia', 'Fowler'],\n",
       " ['Nicholas', 'Villanueva'],\n",
       " ['Shannon', 'Mitchell'],\n",
       " ['Angela', 'Gentry'],\n",
       " ['Kathryn', 'Cook'],\n",
       " ['Charles', 'Walters'],\n",
       " ['Paula', 'Gray'],\n",
       " ['Daniel', 'Morton'],\n",
       " ['Derek', 'Brown'],\n",
       " ['James', 'Potts'],\n",
       " ['Scott', 'Cooper'],\n",
       " ['Joseph', 'Lyons']]"
      ]
     },
     "execution_count": 36,
     "metadata": {},
     "output_type": "execute_result"
    }
   ],
   "source": [
    "names"
   ]
  },
  {
   "cell_type": "code",
   "execution_count": 37,
   "id": "a9202433",
   "metadata": {},
   "outputs": [],
   "source": [
    "names = [name for name in names if len(name)==2]"
   ]
  },
  {
   "cell_type": "code",
   "execution_count": 38,
   "id": "82eb7c7b",
   "metadata": {},
   "outputs": [
    {
     "data": {
      "text/plain": [
       "[['Carlos', 'George'],\n",
       " ['Timothy', 'Landry'],\n",
       " ['Donald', 'Ferguson'],\n",
       " ['Madison', 'Smith'],\n",
       " ['Dana', 'Soto'],\n",
       " ['Jason', 'Matthews'],\n",
       " ['Garrett', 'Wilson'],\n",
       " ['Emily', 'Smith'],\n",
       " ['Mark', 'Valencia'],\n",
       " ['Samuel', 'Ryan'],\n",
       " ['Jonathan', 'Rose'],\n",
       " ['Catherine', 'Lopez'],\n",
       " ['Tamara', 'Wilson'],\n",
       " ['Elizabeth', 'Harrison'],\n",
       " ['Andrew', 'Vincent'],\n",
       " ['Timothy', 'Schmidt'],\n",
       " ['Cynthia', 'Hernandez'],\n",
       " ['Valerie', 'Williams'],\n",
       " ['Laura', 'Walsh'],\n",
       " ['Sandra', 'Murillo'],\n",
       " ['Rita', 'Walsh'],\n",
       " ['Brittany', 'Gallegos'],\n",
       " ['Mary', 'Jackson'],\n",
       " ['Frank', 'Weaver'],\n",
       " ['Mary', 'Holder'],\n",
       " ['Theresa', 'Price'],\n",
       " ['Renee', 'Christian'],\n",
       " ['Juan', 'Cross'],\n",
       " ['Kelly', 'Williams'],\n",
       " ['Dennis', 'Reynolds'],\n",
       " ['Linda', 'Hester'],\n",
       " ['Jeffrey', 'Gibson'],\n",
       " ['Scott', 'Drake'],\n",
       " ['Stephanie', 'Bridges'],\n",
       " ['Andrea', 'Jackson'],\n",
       " ['Kathryn', 'Trevino'],\n",
       " ['Joseph', 'Murphy'],\n",
       " ['Michael', 'Castro'],\n",
       " ['Christine', 'Alvarez'],\n",
       " ['Kyle', 'Ramirez'],\n",
       " ['Crystal', 'Little'],\n",
       " ['Stacie', 'Gallegos'],\n",
       " ['Alexis', 'Mcdonald'],\n",
       " ['Andrew', 'Le'],\n",
       " ['Kayla', 'Swanson'],\n",
       " ['Matthew', 'Cruz'],\n",
       " ['David', 'Acosta'],\n",
       " ['Troy', 'Griffin'],\n",
       " ['Andrew', 'Quinn'],\n",
       " ['Faith', 'Pitts'],\n",
       " ['Christopher', 'Cross'],\n",
       " ['Michael', 'Espinoza'],\n",
       " ['Lee', 'Cox'],\n",
       " ['Taylor', 'Smith'],\n",
       " ['Nancy', 'Cochran'],\n",
       " ['John', 'Kim'],\n",
       " ['John', 'Fernandez'],\n",
       " ['Samantha', 'Scott'],\n",
       " ['Marcus', 'Hamilton'],\n",
       " ['Diane', 'Mcgee'],\n",
       " ['Walter', 'Davis'],\n",
       " ['Charles', 'Tanner'],\n",
       " ['Michael', 'Parker'],\n",
       " ['Kristy', 'Marks'],\n",
       " ['Timothy', 'Smith'],\n",
       " ['Bruce', 'Johnson'],\n",
       " ['Brandon', 'Curtis'],\n",
       " ['Stephen', 'Zimmerman'],\n",
       " ['Maria', 'Palmer'],\n",
       " ['Michael', 'Burns'],\n",
       " ['Barbara', 'Pearson'],\n",
       " ['Maria', 'Bowers'],\n",
       " ['Richard', 'Vasquez'],\n",
       " ['Christopher', 'Zhang'],\n",
       " ['James', 'Mills'],\n",
       " ['Ronald', 'Burke'],\n",
       " ['Alexander', 'Pierce'],\n",
       " ['Jonathan', 'Ramirez'],\n",
       " ['Rachael', 'Shaw'],\n",
       " ['Aaron', 'Johnson'],\n",
       " ['Stephanie', 'Jones'],\n",
       " ['Brian', 'Castillo'],\n",
       " ['Kenneth', 'Spencer'],\n",
       " ['Melissa', 'Murphy'],\n",
       " ['Michael', 'King'],\n",
       " ['Madison', 'Ward'],\n",
       " ['Cynthia', 'Fowler'],\n",
       " ['Nicholas', 'Villanueva'],\n",
       " ['Shannon', 'Mitchell'],\n",
       " ['Angela', 'Gentry'],\n",
       " ['Kathryn', 'Cook'],\n",
       " ['Charles', 'Walters'],\n",
       " ['Paula', 'Gray'],\n",
       " ['Daniel', 'Morton'],\n",
       " ['Derek', 'Brown'],\n",
       " ['James', 'Potts'],\n",
       " ['Scott', 'Cooper'],\n",
       " ['Joseph', 'Lyons']]"
      ]
     },
     "execution_count": 38,
     "metadata": {},
     "output_type": "execute_result"
    }
   ],
   "source": [
    "names"
   ]
  },
  {
   "cell_type": "markdown",
   "id": "51a75cd0",
   "metadata": {},
   "source": [
    "### insert names into database"
   ]
  },
  {
   "cell_type": "code",
   "execution_count": 39,
   "id": "0cdae069",
   "metadata": {},
   "outputs": [],
   "source": [
    "import sqlite3\n",
    "connection = sqlite3.connect(\"sample.d\")"
   ]
  },
  {
   "cell_type": "code",
   "execution_count": 42,
   "id": "86fb8ca5",
   "metadata": {},
   "outputs": [
    {
     "data": {
      "text/plain": [
       "<function Connection.commit>"
      ]
     },
     "execution_count": 42,
     "metadata": {},
     "output_type": "execute_result"
    }
   ],
   "source": [
    "insert_query = \"INSERT INTO people(name, surname) VALUES(?, ?)\"\n",
    "cursor = connection.cursor()\n",
    "for name in names:\n",
    "    cursor.execute(insert_query, name)\n",
    "connection.commit"
   ]
  },
  {
   "cell_type": "code",
   "execution_count": 44,
   "id": "e4fcd817",
   "metadata": {},
   "outputs": [
    {
     "name": "stdout",
     "output_type": "stream",
     "text": [
      "(1, 'Carlos', 'George')\n",
      "(2, 'Timothy', 'Landry')\n",
      "(3, 'Donald', 'Ferguson')\n",
      "(4, 'Madison', 'Smith')\n",
      "(5, 'Dana', 'Soto')\n",
      "(6, 'Jason', 'Matthews')\n",
      "(7, 'Garrett', 'Wilson')\n",
      "(8, 'Emily', 'Smith')\n",
      "(9, 'Mark', 'Valencia')\n",
      "(10, 'Samuel', 'Ryan')\n",
      "SELECT * from people LIMIT 10\n"
     ]
    }
   ],
   "source": [
    "select_query = 'SELECT * from people LIMIT 10'\n",
    "for i in cursor.execute(select_query):\n",
    "    print(i)\n",
    "    \n"
   ]
  },
  {
   "cell_type": "code",
   "execution_count": 46,
   "id": "f7fc7731",
   "metadata": {},
   "outputs": [
    {
     "name": "stdout",
     "output_type": "stream",
     "text": [
      "('Carlos',)\n",
      "('Timothy',)\n",
      "('Donald',)\n",
      "('Madison',)\n",
      "('Dana',)\n",
      "('Jason',)\n",
      "('Garrett',)\n",
      "('Emily',)\n",
      "('Mark',)\n",
      "('Samuel',)\n"
     ]
    }
   ],
   "source": [
    "select_query1 = 'SELECT name from people LIMIT 10'\n",
    "for i in cursor.execute(select_query1):\n",
    "    print(i)"
   ]
  },
  {
   "cell_type": "code",
   "execution_count": 52,
   "id": "a8944c24",
   "metadata": {},
   "outputs": [
    {
     "name": "stdout",
     "output_type": "stream",
     "text": [
      "('Walter', 'Davis')\n",
      "('Valerie', 'Williams')\n",
      "('Troy', 'Griffin')\n",
      "('Timothy', 'Landry')\n",
      "('Timothy', 'Schmidt')\n",
      "('Timothy', 'Smith')\n",
      "('Theresa', 'Price')\n",
      "('Taylor', 'Smith')\n",
      "('Tamara', 'Wilson')\n",
      "('Stephen', 'Zimmerman')\n"
     ]
    }
   ],
   "source": [
    "select_query2 = 'SELECT name, surname from people ORDER BY name DESC LIMIT 10'\n",
    "for result in cursor.execute(select_query2):\n",
    "    print(result)"
   ]
  },
  {
   "cell_type": "code",
   "execution_count": 64,
   "id": "d4d319a9",
   "metadata": {},
   "outputs": [
    {
     "name": "stdout",
     "output_type": "stream",
     "text": [
      "('Timothy', 'Smith')\n",
      "('Timothy', 'Schmidt')\n",
      "('Timothy', 'Landry')\n"
     ]
    }
   ],
   "source": [
    "select_query2 = 'SELECT name, surname from people WHERE name == \"Timothy\" ORDER BY surname DESC LIMIT 10'\n",
    "for result in cursor.execute(select_query2):\n",
    "    print(result)"
   ]
  },
  {
   "cell_type": "code",
   "execution_count": 67,
   "id": "e5796565",
   "metadata": {},
   "outputs": [
    {
     "name": "stdout",
     "output_type": "stream",
     "text": [
      "First name is Timothy, and the last name is Smith\n",
      "First name is Timothy, and the last name is Schmidt\n",
      "First name is Timothy, and the last name is Landry\n"
     ]
    }
   ],
   "source": [
    "select_query2 = 'SELECT name, surname from people WHERE name == \"Timothy\" ORDER BY surname DESC LIMIT 10'\n",
    "for result in cursor.execute(select_query2):\n",
    "    print(f\"First name is {result[0]}, and the last name is {result[1]}\")"
   ]
  },
  {
   "cell_type": "code",
   "execution_count": 72,
   "id": "da369031",
   "metadata": {},
   "outputs": [
    {
     "name": "stdout",
     "output_type": "stream",
     "text": [
      "First name is Jonathan, and the last name is Rose\n",
      "First name is Jonathan, and the last name is Ramirez\n",
      "First name is James, and the last name is Potts\n",
      "First name is Joseph, and the last name is Murphy\n",
      "First name is James, and the last name is Mills\n",
      "First name is Jason, and the last name is Matthews\n",
      "First name is Joseph, and the last name is Lyons\n",
      "First name is John, and the last name is Kim\n",
      "First name is Jeffrey, and the last name is Gibson\n",
      "First name is John, and the last name is Fernandez\n"
     ]
    }
   ],
   "source": [
    "select_query2 = 'SELECT name, surname from people WHERE name LIKE\"%J%\" ORDER BY surname DESC LIMIT 10'\n",
    "for result in cursor.execute(select_query2):\n",
    "    print(f\"First name is {result[0]}, and the last name is {result[1]}\")\n",
    "## %J == anything before J and J% anything after J!\n",
    "## %J__ means that anything before J and two character after it! or %J_ one character after it or etc.."
   ]
  },
  {
   "cell_type": "code",
   "execution_count": 76,
   "id": "0a48e1a9",
   "metadata": {},
   "outputs": [],
   "source": [
    "from html.parser import HTMLParser\n",
    "\n",
    "class Parser(HTMLParser):\n",
    "    def __init__(self):\n",
    "        super().__init__()\n",
    "        self.recording = False\n",
    "    def handle_starttag(self, tag, attrs):\n",
    "        if tag == \"a\":\n",
    "            self.recording = True\n",
    "        else:\n",
    "            self.recording = False\n",
    "            \n",
    "    def handle_data(self, data):\n",
    "        if self.recording:\n",
    "            print(f\"Found <a> tag info:{data}\")\n",
    "            self.recording = False"
   ]
  },
  {
   "cell_type": "code",
   "execution_count": 77,
   "id": "c011a5f8",
   "metadata": {},
   "outputs": [],
   "source": [
    "p = Parser()\n",
    "# p.feed(content) \n",
    "#### here content is the html code you get from internet ...Obviously we do not have it right now :)"
   ]
  },
  {
   "cell_type": "code",
   "execution_count": 78,
   "id": "5c9842df",
   "metadata": {},
   "outputs": [
    {
     "name": "stdout",
     "output_type": "stream",
     "text": [
      "Requirement already satisfied: scrapy in /opt/anaconda3/lib/python3.9/site-packages (2.6.2)\n",
      "Requirement already satisfied: protego>=0.1.15 in /opt/anaconda3/lib/python3.9/site-packages (from scrapy) (0.1.16)\n",
      "Requirement already satisfied: service-identity>=16.0.0 in /opt/anaconda3/lib/python3.9/site-packages (from scrapy) (18.1.0)\n",
      "Requirement already satisfied: itemadapter>=0.1.0 in /opt/anaconda3/lib/python3.9/site-packages (from scrapy) (0.3.0)\n",
      "Requirement already satisfied: queuelib>=1.4.2 in /opt/anaconda3/lib/python3.9/site-packages (from scrapy) (1.5.0)\n",
      "Requirement already satisfied: setuptools in /opt/anaconda3/lib/python3.9/site-packages (from scrapy) (63.4.1)\n",
      "Requirement already satisfied: Twisted>=17.9.0 in /opt/anaconda3/lib/python3.9/site-packages (from scrapy) (22.2.0)\n",
      "Requirement already satisfied: lxml>=3.5.0 in /opt/anaconda3/lib/python3.9/site-packages (from scrapy) (4.9.1)\n",
      "Requirement already satisfied: parsel>=1.5.0 in /opt/anaconda3/lib/python3.9/site-packages (from scrapy) (1.6.0)\n",
      "Requirement already satisfied: itemloaders>=1.0.1 in /opt/anaconda3/lib/python3.9/site-packages (from scrapy) (1.0.4)\n",
      "Requirement already satisfied: zope.interface>=4.1.3 in /opt/anaconda3/lib/python3.9/site-packages (from scrapy) (5.4.0)\n",
      "Requirement already satisfied: tldextract in /opt/anaconda3/lib/python3.9/site-packages (from scrapy) (3.2.0)\n",
      "Requirement already satisfied: pyOpenSSL>=16.2.0 in /opt/anaconda3/lib/python3.9/site-packages (from scrapy) (22.0.0)\n",
      "Requirement already satisfied: cssselect>=0.9.1 in /opt/anaconda3/lib/python3.9/site-packages (from scrapy) (1.1.0)\n",
      "Requirement already satisfied: PyDispatcher>=2.0.5 in /opt/anaconda3/lib/python3.9/site-packages (from scrapy) (2.0.5)\n",
      "Requirement already satisfied: w3lib>=1.17.0 in /opt/anaconda3/lib/python3.9/site-packages (from scrapy) (1.21.0)\n",
      "Requirement already satisfied: cryptography>=2.0 in /opt/anaconda3/lib/python3.9/site-packages (from scrapy) (37.0.1)\n",
      "Requirement already satisfied: cffi>=1.12 in /opt/anaconda3/lib/python3.9/site-packages (from cryptography>=2.0->scrapy) (1.15.1)\n",
      "Requirement already satisfied: jmespath>=0.9.5 in /opt/anaconda3/lib/python3.9/site-packages (from itemloaders>=1.0.1->scrapy) (0.10.0)\n",
      "Requirement already satisfied: six>=1.6.0 in /opt/anaconda3/lib/python3.9/site-packages (from parsel>=1.5.0->scrapy) (1.16.0)\n",
      "Requirement already satisfied: pyasn1 in /opt/anaconda3/lib/python3.9/site-packages (from service-identity>=16.0.0->scrapy) (0.4.8)\n",
      "Requirement already satisfied: attrs>=16.0.0 in /opt/anaconda3/lib/python3.9/site-packages (from service-identity>=16.0.0->scrapy) (21.4.0)\n",
      "Requirement already satisfied: pyasn1-modules in /opt/anaconda3/lib/python3.9/site-packages (from service-identity>=16.0.0->scrapy) (0.2.8)\n",
      "Requirement already satisfied: incremental>=21.3.0 in /opt/anaconda3/lib/python3.9/site-packages (from Twisted>=17.9.0->scrapy) (21.3.0)\n",
      "Requirement already satisfied: typing-extensions>=3.6.5 in ./.local/lib/python3.9/site-packages (from Twisted>=17.9.0->scrapy) (4.11.0)\n",
      "Requirement already satisfied: hyperlink>=17.1.1 in /opt/anaconda3/lib/python3.9/site-packages (from Twisted>=17.9.0->scrapy) (21.0.0)\n",
      "Requirement already satisfied: constantly>=15.1 in /opt/anaconda3/lib/python3.9/site-packages (from Twisted>=17.9.0->scrapy) (15.1.0)\n",
      "Requirement already satisfied: Automat>=0.8.0 in /opt/anaconda3/lib/python3.9/site-packages (from Twisted>=17.9.0->scrapy) (20.2.0)\n",
      "Requirement already satisfied: requests-file>=1.4 in /opt/anaconda3/lib/python3.9/site-packages (from tldextract->scrapy) (1.5.1)\n",
      "Requirement already satisfied: idna in /opt/anaconda3/lib/python3.9/site-packages (from tldextract->scrapy) (3.3)\n",
      "Requirement already satisfied: filelock>=3.0.8 in /opt/anaconda3/lib/python3.9/site-packages (from tldextract->scrapy) (3.6.0)\n",
      "Requirement already satisfied: requests>=2.1.0 in /opt/anaconda3/lib/python3.9/site-packages (from tldextract->scrapy) (2.31.0)\n",
      "Requirement already satisfied: pycparser in /opt/anaconda3/lib/python3.9/site-packages (from cffi>=1.12->cryptography>=2.0->scrapy) (2.21)\n",
      "Requirement already satisfied: certifi>=2017.4.17 in /opt/anaconda3/lib/python3.9/site-packages (from requests>=2.1.0->tldextract->scrapy) (2023.11.17)\n",
      "Requirement already satisfied: charset-normalizer<4,>=2 in /opt/anaconda3/lib/python3.9/site-packages (from requests>=2.1.0->tldextract->scrapy) (2.0.4)\n",
      "Requirement already satisfied: urllib3<3,>=1.21.1 in /opt/anaconda3/lib/python3.9/site-packages (from requests>=2.1.0->tldextract->scrapy) (1.26.11)\n",
      "Note: you may need to restart the kernel to use updated packages.\n"
     ]
    }
   ],
   "source": [
    "pip install scrapy"
   ]
  },
  {
   "cell_type": "code",
   "execution_count": null,
   "id": "acf44b03",
   "metadata": {},
   "outputs": [],
   "source": []
  }
 ],
 "metadata": {
  "kernelspec": {
   "display_name": "Python 3 (ipykernel)",
   "language": "python",
   "name": "python3"
  },
  "language_info": {
   "codemirror_mode": {
    "name": "ipython",
    "version": 3
   },
   "file_extension": ".py",
   "mimetype": "text/x-python",
   "name": "python",
   "nbconvert_exporter": "python",
   "pygments_lexer": "ipython3",
   "version": "3.9.13"
  }
 },
 "nbformat": 4,
 "nbformat_minor": 5
}
